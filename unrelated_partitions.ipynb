{
 "cells": [
  {
   "cell_type": "code",
   "execution_count": 1,
   "metadata": {},
   "outputs": [],
   "source": [
    "import itertools\n",
    "import numpy as np\n",
    "import pandas as pd\n",
    "import time"
   ]
  },
  {
   "cell_type": "code",
   "execution_count": 2,
   "metadata": {},
   "outputs": [],
   "source": [
    "def n_div(n,h):\n",
    "    col = []\n",
    "    while len(col) != h:\n",
    "        col.append(int(n/(h)))\n",
    "    i = -1\n",
    "    while sum(col) != n:\n",
    "        col[i] = col[i] + 1\n",
    "        i -= 1\n",
    "    return(col)"
   ]
  },
  {
   "cell_type": "code",
   "execution_count": 3,
   "metadata": {},
   "outputs": [],
   "source": [
    "def matrix(h):\n",
    "    if h == 2:\n",
    "        return([[1,2],[2,1]])\n",
    "    total_node = (2**(h+1))-2\n",
    "    col_sums = n_div(total_node,h)\n",
    "    lt = [0]*h\n",
    "    lt[0] = 1\n",
    "    lt[1] = col_sums[1]-1\n",
    "    reflex_node = int((total_node - (sum(lt)*2))/4)\n",
    "    for i in range(2,h):\n",
    "        lt[i] = int(col_sums[i]/2)\n",
    "    rt = lt[2:].copy()\n",
    "    rt.reverse()\n",
    "    rt.insert(0,1)\n",
    "    rt.insert(0,lt[1])\n",
    "    lt_id = 2\n",
    "    rt_id = -1\n",
    "    if sum(lt) - sum(rt) == 1:\n",
    "        rt[-1] +=1\n",
    "    if sum(rt) - sum(lt) == 1:\n",
    "        lt[2] +=1    \n",
    "    while sum(lt)+sum(rt)!= total_node:\n",
    "        lt[lt_id] += 1\n",
    "        rt[rt_id] += 1\n",
    "        lt_id += 1\n",
    "        rt_id -= 1\n",
    "    lt = np.array(lt,dtype=float)\n",
    "    rt = np.array(rt,dtype=float)\n",
    "    \n",
    "    return(lt,rt)"
   ]
  },
  {
   "cell_type": "code",
   "execution_count": 4,
   "metadata": {},
   "outputs": [],
   "source": [
    "#n colours\n",
    "#each array has size n for each color\n",
    "def split(number, array, set_list):\n",
    "    #print(array)\n",
    "    #numpy array\n",
    "    n = array.size\n",
    "    unique, counts = np.unique(array, return_counts=True)\n",
    "    X = dict(zip(unique, counts))\n",
    "    assert X[1] == 1\n",
    "    if array[np.where(~np.isinf(array))].sum() <= 1 + 2: #base case or 1 + 2 + 4\n",
    "        parent = np.where(array==1)[0][0]\n",
    "        leaf = np.where(array==2)[0][0]\n",
    "        set_list[parent].append(number)\n",
    "        set_list[leaf].append(number*2)\n",
    "        set_list[leaf].append(number*2+1)\n",
    "        return\n",
    "\n",
    "    new_sum = array[np.where(~np.isinf(array))].sum() // 2\n",
    "    \n",
    "    #remove 1\n",
    "    index_1 = np.where(array==1)[0][0]\n",
    "    array[index_1] = np.inf\n",
    "    \n",
    "    non_zero = np.nonzero(array)\n",
    "    \n",
    "    result1 = np.ones(n)*np.inf\n",
    "    result2 = np.ones(n)*np.inf\n",
    "    small_val = array.min()\n",
    "    min_index = np.where(array==small_val)[0][0]\n",
    "    result1[min_index] = 1\n",
    "    result2[min_index] = array[min_index] - result1[min_index]\n",
    "    if small_val > 2:\n",
    "        #1 has to be in a different position\n",
    "        sec_val = np.sort(array)[1]\n",
    "        if sec_val == small_val:\n",
    "            sec_index = np.where(array==sec_val)[0][1]\n",
    "        else:\n",
    "            sec_index = np.where(array==sec_val)[0][0]\n",
    "\n",
    "        assert sec_index != min_index\n",
    "        result2[sec_index] = 1\n",
    "        result1[sec_index] = array[sec_index] - result2[sec_index]\n",
    "    \n",
    "    f=False\n",
    "    for i in range(n):\n",
    "        if i != min_index and (small_val == 2 or i != sec_index) and not np.isinf(array[i]):\n",
    "            f = True\n",
    "            result1[i] = array[i]//2\n",
    "            result2[i] = array[i] - result1[i]\n",
    "            changed_index = i\n",
    "    if result1[np.where(~np.isinf(result1))].sum() != new_sum:\n",
    "        if f==False and small_val>2:\n",
    "            changed_index = sec_index\n",
    "        #print(result1)\n",
    "        #print(result1, new_sum, changed_index, f, min_index, sec_index)\n",
    "        result1[changed_index] += new_sum - result1[np.where(~np.isinf(result1))].sum().sum()\n",
    "        result2[changed_index] = array[changed_index] - result1[changed_index]\n",
    "    set_list[index_1].append(number)\n",
    "    return split(number*2, result1,set_list), split(number*2+1, result2,set_list)"
   ]
  },
  {
   "cell_type": "code",
   "execution_count": 5,
   "metadata": {
    "scrolled": true
   },
   "outputs": [],
   "source": [
    "def part_the_sea(h):\n",
    "    if h != 2:\n",
    "        colours = []\n",
    "        for i in range(h):\n",
    "            colours.append([])\n",
    "        half_tree_l,half_tree_r = matrix(h)\n",
    "        split(2,half_tree_l,colours)\n",
    "        split(3,half_tree_r,colours)\n",
    "        for i in range(len(colours)):\n",
    "            colours[i] = sorted(colours[i])\n",
    "    else:\n",
    "        colours = [[2,6,7],[3,4,5]]\n",
    "    file_name = 'test'+str(h)+'.txt'\n",
    "    with open(file_name, 'w') as f:\n",
    "        f.write(str(h)+'\\n')\n",
    "        for line in colours:\n",
    "            f.write(' '.join([str(x) for x in line])+'\\n')"
   ]
  },
  {
   "cell_type": "markdown",
   "metadata": {},
   "source": [
    "## Use this to generate a txt file of unrelated partions of size h"
   ]
  },
  {
   "cell_type": "code",
   "execution_count": null,
   "metadata": {},
   "outputs": [],
   "source": [
    "part_the_sea(2)"
   ]
  }
 ],
 "metadata": {
  "kernelspec": {
   "display_name": "Python 3",
   "language": "python",
   "name": "python3"
  },
  "language_info": {
   "codemirror_mode": {
    "name": "ipython",
    "version": 3
   },
   "file_extension": ".py",
   "mimetype": "text/x-python",
   "name": "python",
   "nbconvert_exporter": "python",
   "pygments_lexer": "ipython3",
   "version": "3.8.8"
  }
 },
 "nbformat": 4,
 "nbformat_minor": 2
}
